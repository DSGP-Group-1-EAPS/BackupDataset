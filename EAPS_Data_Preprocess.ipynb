{
  "nbformat": 4,
  "nbformat_minor": 0,
  "metadata": {
    "colab": {
      "provenance": [],
      "authorship_tag": "ABX9TyO7h3LLhwNPfgmaAhGuBa8r",
      "include_colab_link": true
    },
    "kernelspec": {
      "name": "python3",
      "display_name": "Python 3"
    },
    "language_info": {
      "name": "python"
    }
  },
  "cells": [
    {
      "cell_type": "markdown",
      "metadata": {
        "id": "view-in-github",
        "colab_type": "text"
      },
      "source": [
        "<a href=\"https://colab.research.google.com/github/DSGP-Group-1-EAPS/BackupDataset/blob/Kavindu/EAPS_Data_Preprocess.ipynb\" target=\"_parent\"><img src=\"https://colab.research.google.com/assets/colab-badge.svg\" alt=\"Open In Colab\"/></a>"
      ]
    },
    {
      "cell_type": "code",
      "execution_count": null,
      "metadata": {
        "id": "8m66y1zpQ4S0"
      },
      "outputs": [],
      "source": [
        "import pandas as pd\n",
        "from sklearn.model_selection import train_test_split\n",
        "from sklearn.preprocessing import StandardScaler, LabelEncoder\n",
        "\n",
        "# Step 1: Read the Data\n",
        "df = pd.read_excel('your_dataset.xlsx')\n",
        "\n",
        "# Step 2: Filter Rows Based on Reasons\n",
        "reasons_to_remove = ['Resignation', 'VOP', 'Funeral']\n",
        "df = df[~df['Reason'].isin(reasons_to_remove)]\n",
        "\n",
        "# Step 3: Remove Rows with Leave Type 0.5\n",
        "df = df[df['Leave Type'] != 0.5]\n",
        "\n",
        "# Step 4: Remove Department and Reason Mapping Columns\n",
        "df = df.drop(['Department', 'Reason Mapping'], axis=1)\n",
        "\n",
        "# Step 5: Remove Rows with 'Present' in Absent/Present Column\n",
        "df = df[df['Absent/Present'] != 'Present']\n",
        "\n",
        "# Step 6: Handle Date Column\n",
        "df['Year'] = df['Date'].dt.year\n",
        "df['Month'] = df['Date'].dt.month\n",
        "df['Day'] = df['Date'].dt.day\n",
        "\n",
        "# Step 7: One-hot Encode or Label Encode Remaining Categorical Variables\n",
        "df = pd.get_dummies(df, columns=['Shift'], drop_first=True)\n",
        "label_encoder = LabelEncoder()\n",
        "df['Absenteeism Type'] = label_encoder.fit_transform(df['Absenteeism Type'])\n",
        "df['Status'] = label_encoder.fit_transform(df['Status'])\n",
        "\n",
        "# Step 8: Handle Numerical Variables (Scaling)\n",
        "scaler = StandardScaler()\n",
        "numerical_columns = ['Leave Type', 'Year', 'Month', 'Day']\n",
        "df[numerical_columns] = scaler.fit_transform(df[numerical_columns])\n",
        "\n",
        "# Step 9: Impute Missing Values (if needed)\n",
        "# Example: df['column_name'].fillna(df['column_name'].mean(), inplace=True)\n",
        "\n",
        "# Step 10: Feature Engineering (if needed)\n",
        "# Example: Create new features based on existing columns\n",
        "\n",
        "# Step 11: Split Data into Training and Testing Sets\n",
        "X = df.drop('Target_column_name', axis=1)  # Replace 'Target_column_name' with your target variable\n",
        "y = df['Target_column_name']\n",
        "X_train, X_test, y_train, y_test = train_test_split(X, y, test_size=0.2, random_state=42)\n",
        "\n",
        "# Step 12: Save the Processed Data to a New Excel File\n",
        "X_train.to_excel('X_train.xlsx', index=False)\n",
        "X_test.to_excel('X_test.xlsx', index=False)\n",
        "y_train.to_excel('y_train.xlsx', index=False)\n",
        "y_test.to_excel('y_test.xlsx', index=False)\n"
      ]
    }
  ]
}