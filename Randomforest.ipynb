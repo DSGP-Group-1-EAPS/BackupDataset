{
  "nbformat": 4,
  "nbformat_minor": 0,
  "metadata": {
    "colab": {
      "provenance": [],
      "authorship_tag": "ABX9TyO7/n142CTKNmXbge1ONx62",
      "include_colab_link": true
    },
    "kernelspec": {
      "name": "python3",
      "display_name": "Python 3"
    },
    "language_info": {
      "name": "python"
    }
  },
  "cells": [
    {
      "cell_type": "markdown",
      "metadata": {
        "id": "view-in-github",
        "colab_type": "text"
      },
      "source": [
        "<a href=\"https://colab.research.google.com/github/DSGP-Group-1-EAPS/BackupDataset/blob/main/Randomforest.ipynb\" target=\"_parent\"><img src=\"https://colab.research.google.com/assets/colab-badge.svg\" alt=\"Open In Colab\"/></a>"
      ]
    },
    {
      "cell_type": "code",
      "execution_count": 4,
      "metadata": {
        "colab": {
          "base_uri": "https://localhost:8080/"
        },
        "id": "DJom2APN-UU1",
        "outputId": "00247b56-49fa-445e-a7d7-307169ee7cc6"
      },
      "outputs": [
        {
          "output_type": "stream",
          "name": "stdout",
          "text": [
            "Drive already mounted at /content/drive; to attempt to forcibly remount, call drive.mount(\"/content/drive\", force_remount=True).\n",
            "Train R-squared: 0.998422085622417\n",
            "Test R-squared: 0.9941459270531713\n",
            "Train Mean Squared Error: 0.30418243243243237\n",
            "Test Mean Squared Error: 0.633825000000001\n"
          ]
        }
      ],
      "source": [
        "import pandas as pd\n",
        "from sklearn.model_selection import train_test_split\n",
        "from sklearn.ensemble import RandomForestRegressor\n",
        "from sklearn.metrics import r2_score, mean_squared_error\n",
        "from sklearn.preprocessing import StandardScaler\n",
        "from google.colab import drive\n",
        "\n",
        "# Mount Google Drive\n",
        "drive.mount('/content/drive')\n",
        "\n",
        "# Read the CSV file\n",
        "df = pd.read_csv('/content/drive/MyDrive/DSGP_CW/Absenteeism_at_work_Project.csv')\n",
        "\n",
        "# Clean the \"Work load Average/day\" column by removing commas and converting to numeric\n",
        "df[\"Work load Average/day \"] = df[\"Work load Average/day \"].str.replace(',', '').astype(float)\n",
        "\n",
        "# Replace missing values with the mean of each column\n",
        "df.fillna(df.mean().round(0), inplace=True)\n",
        "\n",
        "# Separate features and target variable\n",
        "x = df.iloc[:, :19].values\n",
        "y = df[\"Absenteeism time in hours\"].values\n",
        "\n",
        "# Split the data into training and testing sets\n",
        "xtrain, xtest, ytrain, ytest = train_test_split(x, y, test_size=0.2, random_state=42)\n",
        "\n",
        "# Standardize the features (optional, but often recommended for neural networks)\n",
        "scaler = StandardScaler()\n",
        "xtrain = scaler.fit_transform(xtrain)\n",
        "xtest = scaler.transform(xtest)\n",
        "\n",
        "# Build the Random Forest model\n",
        "rf_model = RandomForestRegressor(n_estimators=100, random_state=42)\n",
        "\n",
        "# Train the model\n",
        "rf_model.fit(xtrain, ytrain)\n",
        "\n",
        "# Make predictions\n",
        "ytrain_pred = rf_model.predict(xtrain)\n",
        "ytest_pred = rf_model.predict(xtest)\n",
        "\n",
        "# Evaluate the model\n",
        "train_r2 = r2_score(ytrain, ytrain_pred)\n",
        "test_r2 = r2_score(ytest, ytest_pred)\n",
        "mse_train = mean_squared_error(ytrain, ytrain_pred)\n",
        "mse_test = mean_squared_error(ytest, ytest_pred)\n",
        "\n",
        "print(f\"Train R-squared: {train_r2}\")\n",
        "print(f\"Test R-squared: {test_r2}\")\n",
        "print(f\"Train Mean Squared Error: {mse_train}\")\n",
        "print(f\"Test Mean Squared Error: {mse_test}\")"
      ]
    }
  ]
}