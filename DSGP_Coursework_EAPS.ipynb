{
  "nbformat": 4,
  "nbformat_minor": 0,
  "metadata": {
    "colab": {
      "provenance": [],
      "history_visible": true,
      "authorship_tag": "ABX9TyMd0xGoR0580zM8KDJVyoE/",
      "include_colab_link": true
    },
    "kernelspec": {
      "name": "python3",
      "display_name": "Python 3"
    },
    "language_info": {
      "name": "python"
    }
  },
  "cells": [
    {
      "cell_type": "markdown",
      "metadata": {
        "id": "view-in-github",
        "colab_type": "text"
      },
      "source": [
        "<a href=\"https://colab.research.google.com/github/DSGP-Group-1-EAPS/BackupDataset/blob/main/DSGP_Coursework_EAPS.ipynb\" target=\"_parent\"><img src=\"https://colab.research.google.com/assets/colab-badge.svg\" alt=\"Open In Colab\"/></a>"
      ]
    },
    {
      "cell_type": "code",
      "execution_count": null,
      "metadata": {
        "colab": {
          "base_uri": "https://localhost:8080/"
        },
        "id": "gIjlRLHsT5LZ",
        "outputId": "f9d4c906-f87d-4026-92b8-d3cad5707c29"
      },
      "outputs": [
        {
          "output_type": "stream",
          "name": "stdout",
          "text": [
            "Drive already mounted at /content/drive; to attempt to forcibly remount, call drive.mount(\"/content/drive\", force_remount=True).\n",
            "     ID  Reason for absence  Month of absence  Day of the week  Seasons  \\\n",
            "0    11                26.0               7.0                3        1   \n",
            "1    36                 0.0               7.0                3        1   \n",
            "2     3                23.0               7.0                4        1   \n",
            "3     7                 7.0               7.0                5        1   \n",
            "4    11                23.0               7.0                5        1   \n",
            "..   ..                 ...               ...              ...      ...   \n",
            "735  11                14.0               7.0                3        1   \n",
            "736   1                11.0               7.0                3        1   \n",
            "737   4                 0.0               0.0                3        1   \n",
            "738   8                 0.0               0.0                4        2   \n",
            "739  35                 0.0               0.0                6        3   \n",
            "\n",
            "     Transportation expense  Distance from Residence to Work  Service time  \\\n",
            "0                     289.0                             36.0          13.0   \n",
            "1                     118.0                             13.0          18.0   \n",
            "2                     179.0                             51.0          18.0   \n",
            "3                     279.0                              5.0          14.0   \n",
            "4                     289.0                             36.0          13.0   \n",
            "..                      ...                              ...           ...   \n",
            "735                   289.0                             36.0          13.0   \n",
            "736                   235.0                             11.0          14.0   \n",
            "737                   118.0                             14.0          13.0   \n",
            "738                   231.0                             35.0          14.0   \n",
            "739                   179.0                             45.0          14.0   \n",
            "\n",
            "      Age Work load Average/day   ...  Disciplinary failure  Education  Son  \\\n",
            "0    33.0                239,554  ...                   0.0        1.0  2.0   \n",
            "1    50.0                239,554  ...                   1.0        1.0  1.0   \n",
            "2    38.0                239,554  ...                   0.0        1.0  0.0   \n",
            "3    39.0                239,554  ...                   0.0        1.0  2.0   \n",
            "4    33.0                239,554  ...                   0.0        1.0  2.0   \n",
            "..    ...                    ...  ...                   ...        ...  ...   \n",
            "735  33.0                264,604  ...                   0.0        1.0  2.0   \n",
            "736  37.0                264,604  ...                   0.0        3.0  1.0   \n",
            "737  40.0                271,219  ...                   0.0        1.0  1.0   \n",
            "738  39.0                271,219  ...                   0.0        1.0  2.0   \n",
            "739  53.0                271,219  ...                   0.0        1.0  1.0   \n",
            "\n",
            "     Social drinker  Social smoker  Pet  Weight  Height  Body mass index  \\\n",
            "0               1.0            0.0  1.0    90.0   172.0             30.0   \n",
            "1               1.0            0.0  0.0    98.0   178.0             31.0   \n",
            "2               1.0            0.0  0.0    89.0   170.0             31.0   \n",
            "3               1.0            1.0  0.0    68.0   168.0             24.0   \n",
            "4               1.0            0.0  1.0    90.0   172.0             30.0   \n",
            "..              ...            ...  ...     ...     ...              ...   \n",
            "735             1.0            0.0  1.0    90.0   172.0             30.0   \n",
            "736             0.0            0.0  1.0    88.0   172.0             29.0   \n",
            "737             1.0            0.0  8.0    98.0   170.0             34.0   \n",
            "738             1.0            0.0  2.0   100.0   170.0             35.0   \n",
            "739             0.0            0.0  1.0    77.0   175.0             25.0   \n",
            "\n",
            "     Absenteeism time in hours  \n",
            "0                          4.0  \n",
            "1                          0.0  \n",
            "2                          2.0  \n",
            "3                          4.0  \n",
            "4                          2.0  \n",
            "..                         ...  \n",
            "735                        8.0  \n",
            "736                        4.0  \n",
            "737                        0.0  \n",
            "738                        0.0  \n",
            "739                        0.0  \n",
            "\n",
            "[740 rows x 21 columns]\n",
            "0.8240450571680976\n",
            "-0.23594435750794474\n"
          ]
        }
      ],
      "source": [
        "import pandas as pd\n",
        "from sklearn.model_selection import train_test_split\n",
        "from sklearn.ensemble import RandomForestRegressor\n",
        "from google.colab import drive\n",
        "\n",
        "# Mount Google Drive\n",
        "drive.mount('/content/drive')\n",
        "#Hello Nigga\n",
        "# Read the CSV file\n",
        "df = pd.read_csv('/content/drive/MyDrive/Colab Notebooks/Absenteeism_at_work_Project.csv')\n",
        "print(df)\n",
        "# Clean the \"Work load Average/day\" column by removing commas and converting to numeric\n",
        "df[\"Work load Average/day \"] = df[\"Work load Average/day \"].str.replace(',', '').astype(float)\n",
        "\n",
        "# Check the data type of \"Absenteeism time in hours\" and convert if necessary\n",
        "if df[\"Absenteeism time in hours\"].dtype != float:\n",
        "    df[\"Absenteeism time in hours\"] = df[\"Absenteeism time in hours\"].str.replace(',', '').astype(float)\n",
        "\n",
        "# Replace missing values with the mean of each column\n",
        "df.fillna(0, inplace=True)\n",
        "\n",
        "# Separate features and target variable\n",
        "x = df.iloc[:, :19].to_numpy()\n",
        "y = df[\"Absenteeism time in hours\"].to_numpy()\n",
        "\n",
        "# Split the data into training and testing sets\n",
        "xtrain, xtest, ytrain, ytest = train_test_split(x, y, test_size=0.2)\n",
        "\n",
        "# Create and fit the RandomForestRegressor for regression\n",
        "model = RandomForestRegressor()  # Use RandomForestRegressor for regression\n",
        "model.fit(xtrain, ytrain)\n",
        "\n",
        "# Print model scores (for regression, score typically represents R-squared)\n",
        "print(model.score(xtrain, ytrain))\n",
        "print(model.score(xtest, ytest))"
      ]
    }
  ]
}